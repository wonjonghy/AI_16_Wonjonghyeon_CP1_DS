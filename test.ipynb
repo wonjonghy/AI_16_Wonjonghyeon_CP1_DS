{
 "cells": [
  {
   "cell_type": "code",
   "execution_count": 1,
   "metadata": {},
   "outputs": [
    {
     "name": "stderr",
     "output_type": "stream",
     "text": [
      "c:\\Users\\WONJONGHYEON\\anaconda3\\envs\\n511\\lib\\site-packages\\tqdm\\auto.py:21: TqdmWarning: IProgress not found. Please update jupyter and ipywidgets. See https://ipywidgets.readthedocs.io/en/stable/user_install.html\n",
      "  from .autonotebook import tqdm as notebook_tqdm\n"
     ]
    }
   ],
   "source": [
    "from utils.project import Summary"
   ]
  },
  {
   "cell_type": "code",
   "execution_count": 26,
   "metadata": {},
   "outputs": [],
   "source": [
    "summary=Summary()\n"
   ]
  },
  {
   "cell_type": "code",
   "execution_count": 34,
   "metadata": {},
   "outputs": [
    {
     "data": {
      "text/plain": [
       "['특허청은 신학기를 맞아 학습용품 지식재산권 허위표시 집중 단속을 벌여 모두 667건을 적발했다고 20일 밝혔다. 지난달 1∼23일 진행된 이번 단속에서 특허청은 주요 오픈마켓에서 판매 중인 학습용품 전반을 대상으로 특허 디자인 등 지식재산권 표시광고 현황을 점검했다. 권리 소멸 이후에도 유효한 권리로 표시한 경우가 416건으로 가장 많았고 존재하지 않는 권리표시 176건, 지식재산권 명칭 잘못 표시 48건, 제품에 적용되지 않는 권리표시 23건, 출원 중이 아닌데도 지식재산권 출원 표시 14건 등 순으로 나타났다. 제품 종류로는 클리어 파일이 93건으로 가장 많고 지점토 83건, 알파벳 블록 79건, 롤피아노 75건, 도서 76건, 기타 271건순이다. 특허청은 오픈마켓 사업자에게 지식재산권 허위표시에 해당하는 제품을 고지하고 허위표시 제품에 대한 수정 삭제 등 시정조치를 완료했다. 김시형 산업재산보호협력국장은 \"문구미술음악용품, 학습교구, 도서 등 다양한 학습용품을 대상으로 한 지식재산권 허위표시 가광범위하게 발생하는 것으로 드러났다\"며 \"국민의 관심 수요가 증가하는 제품을 중심으로 지식재산권 허위표시 점검을 강화하겠다\"고 설명했다.',\n",
       " '세계 금융시장에 큰 충격파를 일으킬 것으로 우려됐던 세계적 투자은행 크레디트스위스(CS)의 위기가 스위스 최대 금융기관 UBS의 인수로 급한 불을 끄게 됐다.\\n\\n스위스 정부가 1천억 달러의 유동성 지원을 제공하는 등 월요일 세계 금융시장의 \\'블랙먼데이\\' 사태를 피하기 위해 적극적으로 나선 결과로 보여지고 있다.\\n\\n로이터, 블룸버그 통신 등 외신에 따르면 스위스 정부와 스위스 국립은행은 19일(현지시간) 기자회견을 열고 \"스위스 연방 정부와 금융감독청(FINMA), 스위스 국립은행(SNB)의 지원 덕분에 UBS가 오늘 CS 인수를 발표했다\"고 밝혔다.\\n\\nSNB는 이번 인수 지원을 위해 최대 1천억 달러의 유동성 지원을 제공하기로 했다.\\n\\nSNB는 \"실질적인 유동성 제공을 통해 두 은행 모두 필요한 유동성에 접근 가능하게 될 것\"이라고 전했다.\\n\\n정부는 \"인수가 완료될 때까지 추가적 유동성 지원을 통해 금융 시장의 안정성을 강화할 것\"이라며 \"연방 의회 역시 이 같은 조처가 CS와 스위스 금융 시장에 대한 신뢰를 강화하는 가장 적절한 해법일 것으로 판단한다\"고 언급했다.\\n\\n이그나지오 카시스 스위스 대통령도 \"UBS의 CS 인수가 스위스 금융 시장에 신뢰를 제공하는 최고의 해법\"이라고 평가했다.\\n\\nFINMA는 이번 인수 타결 이후로 두 은행의 모든 사업 활동은 차질 없이 계속될 것이라고 설명했다.\\n\\n또한 \"거래 및 기존에 시행된 조처들이 은행 고객과 금융 시장의 안정성을 보장할 것\"이라고 내다봤다.\\n\\n카린 켈러 서터 재무장관은 \"CS가 독자적으로 상황을 개선하지 못한 것은 유감\"이라면서도 \"이번 인수는 다른 어떤 시나리오보다 국가와 납세자, 세계 금융 안정성에 있어서 위험이 작다\"고 말했다.\\n\\n아울러 \"이번 조처는 구제금융이 아니라 상업적 해법\"이라며 \"세계적으로 중요한 은행의 파산은 세계 금융 시장에 있어 돌이킬 수 없는 결과를 초래했을 것\"이라고 강조했다.\\n\\n인수 총액은 32억3천만 달러로 CS의 모든 주주는 22.48주당 UBS 1주를 받게 된다.\\n\\n지난 17일 종가 기준 CS의 주당 가격은 1.86 스위스 프랑이었다. 이를 달러로 전환한 시가 총액은 약 80억 달러다.\\n\\nUBS는 인수 이후 CS의 투자 은행 부문을 축소할 계획이라고 밝혔다.\\n\\nCS 인력 감축에 대해 논하는 것은 시기상조라고 UBS는 밝혔다.\\n\\n통합 법인의 최고경영자(CEO)는 랄프 해머스 현 UBS CEO가 계속해서 맡을 예정이다.\\n\\nUBS는 협상 당사자 모두가 인수 조건 충족이 가능할 것으로 자신한다면서 가능하다면 연내에 모든 인수 절차가 마무리될 것으로 예측했다.\\n\\n악셀 레만 CS 이사회 의장은 \"오늘은 CS뿐만 아니라 세계 금융 시장에 매우 슬픈 날이다. 미국 은행의 최근 사태가 불행한 때 발생했다\"며 \"UBS와의 합병이 안정성을 가져다줄 것\"이라고 부연했다.\\n\\n스위스 취리히에 본사를 둔 CS는 167년 역사를 지닌 세계 9대 투자은행(IB) 중 하나로 최근 잇따른 투자 실패 속에 재무구조가 악화한 데다 미국 실리콘밸리은행(SVB) 파산 여파로 시장 변동성이 커지면서 위기설에 휩싸였다.\\n\\nCS가 무너질 경우 실리콘밸리 기술기업들을 중심으로 한 틈새시장에서 영업해온 SVB 등 중소은행의 파산과는 비교도 안 될 정도로 세계 경제에 미칠 충격파가 클 것으로 우려됐다.\\n\\n이에 따라 미국 금융 당국도 이번 인수 협상 타결을 위해 스위스 당국과 협력했다.']"
      ]
     },
     "execution_count": 34,
     "metadata": {},
     "output_type": "execute_result"
    }
   ],
   "source": [
    "summary.text_lst"
   ]
  },
  {
   "cell_type": "code",
   "execution_count": 33,
   "metadata": {},
   "outputs": [],
   "source": [
    "summary.stack_txt(r'C:\\Users\\WONJONGHYEON\\OneDrive\\바탕 화면\\cp1\\text\\test5.txt')"
   ]
  },
  {
   "cell_type": "code",
   "execution_count": 4,
   "metadata": {},
   "outputs": [],
   "source": [
    "summary.stack_txt(r'C:\\Users\\WONJONGHYEON\\OneDrive\\바탕 화면\\cp1\\text\\test1.txt')\n",
    "summary.stack_txt(r'C:\\Users\\WONJONGHYEON\\OneDrive\\바탕 화면\\cp1\\text\\test2.txt')\n",
    "summary.stack_txt(r'C:\\Users\\WONJONGHYEON\\OneDrive\\바탕 화면\\cp1\\text\\test3.txt')"
   ]
  },
  {
   "cell_type": "code",
   "execution_count": 35,
   "metadata": {},
   "outputs": [],
   "source": [
    "summary.preprocess()"
   ]
  },
  {
   "cell_type": "code",
   "execution_count": 36,
   "metadata": {},
   "outputs": [],
   "source": [
    "summary_txt = summary.inference()"
   ]
  },
  {
   "cell_type": "code",
   "execution_count": 42,
   "metadata": {},
   "outputs": [
    {
     "data": {
      "text/plain": [
       "\"세계 금융시장에 큰 충격파를 일으킬 것으로 우려됐던 세계적 투자은행 크레디트스위스(CS)의 위기가 스위스 최대 금융기관 UBS의 인수로 급한 불을 끄게 됐고 스위스 정부가 1천억달러의 유동성 지원을 제공하는 등 월요일 세계 금융시장의 '블랙 먼데이' 사태를 피하기 위해 적극적으로 나선 결과로 보여지고 있다. \""
      ]
     },
     "execution_count": 42,
     "metadata": {},
     "output_type": "execute_result"
    }
   ],
   "source": [
    "summary_txt[0]"
   ]
  }
 ],
 "metadata": {
  "kernelspec": {
   "display_name": "s3n4",
   "language": "python",
   "name": "python3"
  },
  "language_info": {
   "codemirror_mode": {
    "name": "ipython",
    "version": 3
   },
   "file_extension": ".py",
   "mimetype": "text/x-python",
   "name": "python",
   "nbconvert_exporter": "python",
   "pygments_lexer": "ipython3",
   "version": "3.8.16"
  },
  "orig_nbformat": 4
 },
 "nbformat": 4,
 "nbformat_minor": 2
}
