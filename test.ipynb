{
 "cells": [
  {
   "cell_type": "code",
   "execution_count": null,
   "metadata": {},
   "outputs": [],
   "source": [
    "from utils.project import Summary"
   ]
  },
  {
   "cell_type": "code",
   "execution_count": null,
   "metadata": {},
   "outputs": [],
   "source": [
    "summary=Summary()\n"
   ]
  },
  {
   "cell_type": "code",
   "execution_count": 20,
   "metadata": {},
   "outputs": [],
   "source": [
    "test_txt = summary.open_txt(r'C:\\Users\\WONJONGHYEON\\OneDrive\\바탕 화면\\cp1\\test4.txt')\n"
   ]
  },
  {
   "cell_type": "code",
   "execution_count": 21,
   "metadata": {},
   "outputs": [
    {
     "data": {
      "text/plain": [
       "'중국에서 비롯된 유서는 고금의 서적에서 자료를 수집하고 항목별로 분류, 정리하여 이용에 편리하도록 편찬한 서적이다. 일반적으로 유서는 기존 서적에서 필요한 부분을 뽑아 배열할 뿐 상호 비교하거나 편찬자의 해석을 가하지 않았다. 유서는 모든 주제를 망라한 일반 유서와 특정 주제를 다룬 전문 유서로 나눌 수 있으며, 편찬 방식은 책에 따라 다른 경우가 많았다. 중국에서는 대체로 왕조 초기에 많은 학자를 동원하여 국가주도로 대규모 유서를 편찬하여 간행하였다.이를 통해 이전까지의 지식을 집성하고 왕조의 위엄을 과시할 수 있었다. 고려 때 중국 유서를 수용한 이후, 조선에서는 중국 유서를 활용하는 한편, 중국 유서의 편찬 방식에 ⓐ따라 필요에 맞게 유서를 편찬하였다. 조선의 유서는 대체로 국가보다 개인이 소규모로 편찬하는 경우가 많았고, 목적에 따른 특정 주제의 전문 유서가 집중적으로 편찬되었다. 전문 유서 가운데 편찬자가 미상인 유서가 많은데, 대체로 간행을 염두에 두지 않고 기존 서적에서 필요한 부분을 발췌, 기록하여 시문창작 , 과거시험 등 개인적 목적으로 유서를 활용하고자 하였기 때문이었다.이 같은 유서 편찬 경향이 지속되는 가운데 17세기부터 실학의 학풍이 하나의 조류를 형성하면서 유서 편찬에 변화가 나타났다. 실학자들의 유서는 현실 개혁의 뜻을 담았고, 편찬의도를 지식의 제공과 확산에 두었다. 또한 단순 정리를 넘어 지식을 재분류하여 범주화하고 평가를 더하는 등 저술의 성격을 드러냈다. 독서와 견문을 통해 주자학에서 중시되지 않았던 지식을 집적했고, 증거를 세워 이론적으로 밝히는 고증과 이에 대한 의견 등 ‘안설’을 덧붙이는 경우가 많았다. 주자학의 지식을 ⓑ 이어받는 한편, 주자학이 아닌 새로운 지식을 수용하는 유연성과 개방성을 보였다. 광범위하게 정리한 지식을 식자층이 ⓒ쉽게 접할 수 있어야 한다고 생각했고, 객관적 사실 탐구를 중시하여 박물학과 자연과학에 관심을 기울였다. 조선 후기 실학자들이 편찬한 유서가 주자학의 관념적 사유에 국한되지 않고 새로운 지식의 축적과 확산을 촉진한 것은 지식의 역사에서 적지 않은 의미를 지닌다'"
      ]
     },
     "execution_count": 21,
     "metadata": {},
     "output_type": "execute_result"
    }
   ],
   "source": [
    "test_txt = summary.preprocess(test_txt)\n",
    "test_txt"
   ]
  },
  {
   "cell_type": "code",
   "execution_count": null,
   "metadata": {},
   "outputs": [],
   "source": [
    "type(summary.inference(test_txt))"
   ]
  }
 ],
 "metadata": {
  "kernelspec": {
   "display_name": "s3n4",
   "language": "python",
   "name": "python3"
  },
  "language_info": {
   "codemirror_mode": {
    "name": "ipython",
    "version": 3
   },
   "file_extension": ".py",
   "mimetype": "text/x-python",
   "name": "python",
   "nbconvert_exporter": "python",
   "pygments_lexer": "ipython3",
   "version": "3.8.16"
  },
  "orig_nbformat": 4
 },
 "nbformat": 4,
 "nbformat_minor": 2
}
