{
 "cells": [
  {
   "cell_type": "code",
   "execution_count": 1,
   "metadata": {},
   "outputs": [
    {
     "name": "stderr",
     "output_type": "stream",
     "text": [
      "c:\\Users\\WONJONGHYEON\\anaconda3\\envs\\n511\\lib\\site-packages\\tqdm\\auto.py:21: TqdmWarning: IProgress not found. Please update jupyter and ipywidgets. See https://ipywidgets.readthedocs.io/en/stable/user_install.html\n",
      "  from .autonotebook import tqdm as notebook_tqdm\n"
     ]
    }
   ],
   "source": [
    "from utils.project import Summary"
   ]
  },
  {
   "cell_type": "code",
   "execution_count": 2,
   "metadata": {},
   "outputs": [],
   "source": [
    "summary=Summary()\n"
   ]
  },
  {
   "cell_type": "code",
   "execution_count": 8,
   "metadata": {},
   "outputs": [
    {
     "data": {
      "text/plain": [
       "['기업의 사회적 책임과 이에 대한 구체적인 행동을 기대하는 소비자가 점차 늘어나고 있다. 최근에는 환경단체와 시민모임이 유통 3사(이마트, 롯데마트, 홈플러스)가 환경오염을 유발하는 과대포장이나 재포장 문제 해결을 위한 자발적이고 책임 있는 대책 마련을 촉구했다(SisaFocus, 2020).이처럼 기업의 사회적 책임 문제가 주요 관심사로 떠오르면서 기업의 지속가능한 경영에 영향을 미치는 ESG가 주목받고 있다. ESG는 환경(Env iron ment), 사회(Social), 지배구조(Governance)를 일컫는 개념으로, 국제연합 책임투자 원칙(UNPrinciples forRespons ibleInvestm ent, PRI) 보고서에서는 ESG를 재무적 가치에 영향을 미칠 수 있는 비재무적 요소로써, 투자자들이 투자를 결정할 때 반드시 고려해야 할 주요 요소로 보고 있다(UnitedNations, 2006). ESG는 환경, 사회, 지배구조의 각 차원에 대한  사회기여도를 측정하여 기업의 비재무적 성과를 판단하는 기준으로 활용되고 있다(Galbreath, 2013).즉, ESG 평가지수가 높은 기업은 환경보호를 위해 노력하고 사회적 책임을 다하며 투명한 지배구조를 보유하고 있음을 의미하기 때문에 ESG 평가지수가 낮은 기업과 비교했을 때 장기적으로 지속가능한 성장을 할 가능성이 더 크다고 할 수 있다. 그러나 기업이 ESG 활동을 수행하기 위해서는 추가적인 비용이 발생한다. 그러므로 기업의 지속적인 ES G 활동을 위해서는 소비자의 구매를 통한 매출 증대가 기반이 되어야 한다.',\n",
       " '중국에서 비롯된 유서는 고금의 서적에서 자료를 수집하고 항목별로 분류, 정리하여 이용에 편리하도록 편찬한 서적이다. 일반적으로 유서는 기존 서적에서 필요한 부분을 뽑아 배열할 뿐 상호 비교하거나 편찬자의 해석을 가하지 않았다. 유서는 모든 주제를 망라한 일반 유서와 특정 주제를 다룬 전문 유서로 나눌 수 있으며, 편찬 방식은 책에 따라 다른 경우가 많았다. 중국에서는 대체로 왕조 초기에 많은 학자를 동원하여 국가주도로 대규모 유서를 편찬하여 간행하였다.이를 통해 이전까지의 지식을 집성하고 왕조의 위엄을 과시할 수 있었다. 고려 때 중국 유서를 수용한 이후, 조선에서는 중국 유서를 활용하는 한편, 중국 유서의 편찬 방식에 ⓐ따라 필요에 맞게 유서를 편찬하였다. 조선의 유서는 대체로 국가보다 개인이 소규모로 편찬하는 경우가 많았고, 목적에 따른 특정 주제의 전문 유서가 집중적으로 편찬되었다. 전문 유서 가운데 편찬자가 미상인 유서가 많은데, 대체로 간행을 염두에 두지 않고 기존 서적에서 필요한 부분을 발췌, 기록하여 시문창작 , 과거시험 등 개인적 목적으로 유서를 활용하고자 하였기 때문이었다.이 같은 유서 편찬 경향이 지속되는 가운데 17세기부터 실학의 학풍이 하나의 조류를 형성하면서 유서 편찬에 변화가 나타났다. 실학자들의 유서는 현실 개혁의 뜻을 담았고, 편찬의도를 지식의 제공과 확산에 두었다. 또한 단순 정리를 넘어 지식을 재분류하여 범주화하고 평가를 더하는 등 저술의 성격을 드러냈다. 독서와 견문을 통해 주자학에서 중시되지 않았던 지식을 집적했고, 증거를 세워 이론적으로 밝히는 고증과 이에 대한 의견 등 ‘안설’을 덧붙이는 경우가 많았다. 주자학의 지식을 ⓑ 이어받는 한편, 주자학이 아닌 새로운 지식을 수용하는 유연성과 개방성을 보였다. 광범위하게 정리한 지식을 식자층이 ⓒ쉽게 접할 수 있어야 한다고 생각했고, 객관적 사실 탐구를 중시하여 박물학과 자연과학에 관심을 기울였다. 조선 후기 실학자들이 편찬한 유서가 주자학의 관념적 사유에 국한되지 않고 새로운 지식의 축적과 확산을 촉진한 것은 지식의 역사에서 적지 않은 의미를 지닌다']"
      ]
     },
     "execution_count": 8,
     "metadata": {},
     "output_type": "execute_result"
    }
   ],
   "source": [
    "summary.text_lst"
   ]
  },
  {
   "cell_type": "code",
   "execution_count": 5,
   "metadata": {},
   "outputs": [],
   "source": [
    "summary.stack_txt(r'C:\\Users\\WONJONGHYEON\\OneDrive\\바탕 화면\\cp1\\text\\test1.txt')\n",
    "summary.stack_txt(r'C:\\Users\\WONJONGHYEON\\OneDrive\\바탕 화면\\cp1\\text\\test2.txt')"
   ]
  },
  {
   "cell_type": "code",
   "execution_count": 7,
   "metadata": {},
   "outputs": [],
   "source": [
    "summary.preprocess()"
   ]
  },
  {
   "cell_type": "code",
   "execution_count": 9,
   "metadata": {},
   "outputs": [],
   "source": [
    "summary_txt = summary.inference()"
   ]
  },
  {
   "cell_type": "code",
   "execution_count": 11,
   "metadata": {},
   "outputs": [
    {
     "data": {
      "text/plain": [
       "'조선 후기 실학자들이 편찬한 유서가 주자학의 관념적 사유에 국한되지 않고 새로운 지식의 축적과 확산을 촉진한 것은 지식의 역사에서 적지 않은 의미를 지닌다. '"
      ]
     },
     "execution_count": 11,
     "metadata": {},
     "output_type": "execute_result"
    }
   ],
   "source": [
    "summary_txt[1]"
   ]
  }
 ],
 "metadata": {
  "kernelspec": {
   "display_name": "s3n4",
   "language": "python",
   "name": "python3"
  },
  "language_info": {
   "codemirror_mode": {
    "name": "ipython",
    "version": 3
   },
   "file_extension": ".py",
   "mimetype": "text/x-python",
   "name": "python",
   "nbconvert_exporter": "python",
   "pygments_lexer": "ipython3",
   "version": "3.8.16"
  },
  "orig_nbformat": 4
 },
 "nbformat": 4,
 "nbformat_minor": 2
}
